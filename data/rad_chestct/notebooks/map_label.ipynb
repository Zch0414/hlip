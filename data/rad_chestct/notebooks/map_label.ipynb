{
 "cells": [
  {
   "cell_type": "code",
   "execution_count": 8,
   "metadata": {
    "vscode": {
     "languageId": "plaintext"
    }
   },
   "outputs": [],
   "source": [
    "import os\n",
    "import pandas as pd"
   ]
  },
  {
   "cell_type": "code",
   "execution_count": 7,
   "metadata": {
    "vscode": {
     "languageId": "plaintext"
    }
   },
   "outputs": [],
   "source": [
    "RAD_CLASSNAMES = {\n",
    "    \"emphysema\": \"Emphysema\",\n",
    "    \"atelectasis\": \"Atelectasis\",\n",
    "    \"nodule\": \"Lung nodule\",\n",
    "    \"opacity\": \"Lung opacity\",\n",
    "    \"fibrosis\": \"Pulmonary fibrotic sequela\",\n",
    "    \"pleural_effusion\": \"Pleural effusion\",\n",
    "    \"bronchial_wall_thickening\": \"Peribronchial thickening\",\n",
    "    \"consolidation\": \"Consolidation\",\n",
    "    \"bronchiectasis\": \"Bronchiectasis\",\n",
    "    \"septal_thickening\": \"Interlobular septal thickening\",\n",
    "    \"cardiomegaly\": \"Cardiomegaly\",\n",
    "    \"pericardial_effusion\": \"Pericardial effusion\",\n",
    "    \"calcification\": [\"Coronary artery wall calcification\", \"Arterial wall calcification\"],\n",
    "    \"hernia\": \"Hiatal hernia\",\n",
    "}"
   ]
  },
  {
   "cell_type": "code",
   "execution_count": 22,
   "metadata": {
    "vscode": {
     "languageId": "plaintext"
    }
   },
   "outputs": [],
   "source": [
    "def map_label(csv_name, csv_dir='../files/', save_dir='../files/'):\n",
    "    os.makedirs(save_dir, exist_ok=True)\n",
    "    \n",
    "    df = pd.read_csv(os.path.join(csv_dir, f'{csv_name}.csv'))\n",
    "    select_col = ['NoteAcc_DEID'] + list(RAD_CLASSNAMES.keys())\n",
    "    df_result = df[select_col].copy()\n",
    "    \n",
    "    for old_col, new_col in RAD_CLASSNAMES.items():\n",
    "        assert old_col in df_result.columns\n",
    "        \n",
    "        if isinstance(new_col, list):\n",
    "            for col_name in new_col:\n",
    "                df_result[col_name] = df_result[old_col]\n",
    "            df_result.drop(columns=[old_col], inplace=True)\n",
    "        else:\n",
    "            df_result.rename(columns={old_col: new_col}, inplace=True)\n",
    "            \n",
    "    df_result.to_csv(os.path.join(save_dir, f'{csv_name}_16.csv'), index=False)\n",
    "    return"
   ]
  },
  {
   "cell_type": "code",
   "execution_count": 23,
   "metadata": {},
   "outputs": [],
   "source": [
    "map_label('imgtest')"
   ]
  },
  {
   "cell_type": "code",
   "execution_count": 24,
   "metadata": {},
   "outputs": [],
   "source": [
    "map_label('imgtrain')"
   ]
  },
  {
   "cell_type": "code",
   "execution_count": 25,
   "metadata": {},
   "outputs": [],
   "source": [
    "map_label('imgvalid')"
   ]
  }
 ],
 "metadata": {
  "kernelspec": {
   "display_name": "p2sam",
   "language": "python",
   "name": "p2sam"
  },
  "language_info": {
   "codemirror_mode": {
    "name": "ipython",
    "version": 3
   },
   "file_extension": ".py",
   "mimetype": "text/x-python",
   "name": "python",
   "nbconvert_exporter": "python",
   "pygments_lexer": "ipython3",
   "version": "3.7.16"
  }
 },
 "nbformat": 4,
 "nbformat_minor": 4
}
