{
 "cells": [
  {
   "cell_type": "code",
   "execution_count": 5,
   "metadata": {},
   "outputs": [],
   "source": [
    "import os\n",
    "import json\n",
    "import pandas as pd"
   ]
  },
  {
   "cell_type": "code",
   "execution_count": null,
   "metadata": {},
   "outputs": [],
   "source": [
    "def qwen_organ_annotate(root_path='/download/ct_rate/dataset/train/'):\n",
    "    desc_info = json.load(open('./metafiles/desc_info.json'))\n",
    "    conc_info = json.load(open('./metafiles/conc_info.json'))\n",
    "    organs = ['lung', 'heart', 'esophagus', 'aorta']\n",
    "\n",
    "    annotation = {}\n",
    "    patient_ids = sorted(os.listdir(root_path))\n",
    "\n",
    "    for patient_id in patient_ids:\n",
    "        sessions = sorted(os.listdir(os.path.join(root_path, patient_id)))\n",
    "        \n",
    "        for session in sessions:\n",
    "            session_info = {}\n",
    "            recons = sorted(os.listdir(os.path.join(root_path, patient_id, session)))\n",
    "            session_info['recons'] = recons\n",
    "            report_list = []\n",
    "            \n",
    "            for organ in organs:\n",
    "                desc = ''\n",
    "                if organ in desc_info.get(session, {}):\n",
    "                    desc += desc_info[session][organ]\n",
    "                    if not desc.endswith('.'):\n",
    "                        desc += '.'\n",
    "                if not desc:\n",
    "                    desc = 'No significant abnormalities.'\n",
    "                \n",
    "                conc = ''\n",
    "                if organ in conc_info.get(session, {}):\n",
    "                    conc += conc_info[session][organ]\n",
    "                    if not conc.endswith('.'):\n",
    "                        conc += '.'\n",
    "                if not conc:\n",
    "                    conc = 'No significant abnormalities.'\n",
    "\n",
    "                report = f'The {organ} shows: {conc} The {organ} looks like: {desc}'\n",
    "                report = report.replace('\"', '')\n",
    "                report = report.replace('\\'', '')  \n",
    "                report = report.replace('(', '')  \n",
    "                report = report.replace(')', '')\n",
    "\n",
    "                report_list.append(report)\n",
    "\n",
    "            session_info['report'] = report_list\n",
    "            annotation[session] = session_info\n",
    "            \n",
    "    os.makedirs('./files/', exist_ok=True)\n",
    "    with open(os.path.join('./files/', 'qwen_organ_annotation.json'), 'w') as file:\n",
    "        json.dump(annotation, file, indent=4)\n",
    "    return  \n",
    "\n",
    "\n",
    "def raw_annotate(csv_file='./metafiles/train_reports.csv'):\n",
    "    df = pd.read_csv(csv_file)\n",
    "    \n",
    "    annotation = {}\n",
    "    \n",
    "    for index, row in df.iterrows():\n",
    "        name = str(row['VolumeName'])\n",
    "        session = name.rsplit('_', 1)[0]\n",
    "        if session in annotation.keys():\n",
    "            annotation[session]['recons'].append(name)\n",
    "        else:\n",
    "            session_info = {}\n",
    "            session_info['recons'] = [name]\n",
    "            impression = str(row['Impressions_EN'])\n",
    "            if not impression.endswith('.'):\n",
    "                impression += '.'\n",
    "            findings = str(row['Findings_EN'])\n",
    "            if not findings.endswith('.'):\n",
    "                findings += '.'\n",
    "\n",
    "            report = f'The volume shows: {impression} The volume looks like: {findings}'\n",
    "            report = report.replace('\"', '')\n",
    "            report = report.replace('\\'', '')  \n",
    "            report = report.replace('(', '')  \n",
    "            report = report.replace(')', '')\n",
    "            \n",
    "            report_list = [report]\n",
    "            session_info['report'] = report_list\n",
    "            annotation[session] = session_info\n",
    "            \n",
    "    os.makedirs('./files/', exist_ok=True)\n",
    "    with open(os.path.join('./files/', 'raw_annotation.json'), 'w') as file:\n",
    "        json.dump(annotation, file, indent=4)\n",
    "    \n",
    "    return\n",
    "    \n"
   ]
  },
  {
   "cell_type": "code",
   "execution_count": 15,
   "metadata": {},
   "outputs": [],
   "source": [
    "qwen_organ_annotate()"
   ]
  },
  {
   "cell_type": "code",
   "execution_count": 23,
   "metadata": {},
   "outputs": [],
   "source": [
    "raw_annotate()"
   ]
  }
 ],
 "metadata": {
  "kernelspec": {
   "display_name": "env",
   "language": "python",
   "name": "python3"
  },
  "language_info": {
   "codemirror_mode": {
    "name": "ipython",
    "version": 3
   },
   "file_extension": ".py",
   "mimetype": "text/x-python",
   "name": "python",
   "nbconvert_exporter": "python",
   "pygments_lexer": "ipython3",
   "version": "3.10.15"
  }
 },
 "nbformat": 4,
 "nbformat_minor": 4
}
