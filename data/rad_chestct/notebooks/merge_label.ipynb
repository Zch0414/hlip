{
 "cells": [
  {
   "cell_type": "code",
   "execution_count": 3,
   "id": "b9bfbaea-f68d-475d-8ec5-3b74a6baf248",
   "metadata": {},
   "outputs": [],
   "source": [
    "import os\n",
    "import pandas as pd"
   ]
  },
  {
   "cell_type": "code",
   "execution_count": null,
   "id": "a4d9ddcc-65b2-42ec-9e62-c0a9f872c8d0",
   "metadata": {},
   "outputs": [],
   "source": [
    "def merge_label(csv_name, csv_dir='../metafiles/', save_dir='../files/'):\n",
    "    os.makedirs(save_dir, exist_ok=True)\n",
    "    \n",
    "    df = pd.read_csv(os.path.join(csv_dir, f'{csv_name}_Abnormality_and_Location_Labels.csv'))\n",
    "    \n",
    "    new_columns = [col.split('*')[0] for col in df.columns]\n",
    "    \n",
    "    df_aggregated = df.groupby(new_columns, axis=1).max()\n",
    "    print(df_aggregated.head())\n",
    "    \n",
    "    df_aggregated.to_csv(os.path.join(save_dir, csv_name + '.csv'), index=False)\n",
    "    \n",
    "    return"
   ]
  },
  {
   "cell_type": "code",
   "execution_count": 19,
   "id": "407db3a2-4bc2-4161-b155-324a450b3319",
   "metadata": {},
   "outputs": [
    {
     "name": "stdout",
     "output_type": "stream",
     "text": [
      "  NoteAcc_DEID  air_trapping  airspace_disease  aneurysm  arthritis  \\\n",
      "0     tst34780           0.0               0.0       0.0        0.0   \n",
      "1     tst33567           0.0               0.0       0.0        0.0   \n",
      "2     tst36098           0.0               0.0       0.0        0.0   \n",
      "3     tst30445           0.0               0.0       0.0        0.0   \n",
      "4     tst31586           0.0               0.0       0.0        0.0   \n",
      "\n",
      "   aspiration  atelectasis  atherosclerosis  bandlike_or_linear  \\\n",
      "0         0.0          0.0              0.0                 0.0   \n",
      "1         0.0          0.0              0.0                 0.0   \n",
      "2         0.0          1.0              0.0                 0.0   \n",
      "3         1.0          1.0              1.0                 0.0   \n",
      "4         0.0          0.0              0.0                 0.0   \n",
      "\n",
      "   breast_implant  ...  septal_thickening  soft_tissue  staple  stent  \\\n",
      "0             0.0  ...                0.0          0.0     0.0    0.0   \n",
      "1             0.0  ...                0.0          0.0     0.0    0.0   \n",
      "2             0.0  ...                0.0          0.0     0.0    0.0   \n",
      "3             0.0  ...                0.0          0.0     0.0    0.0   \n",
      "4             0.0  ...                0.0          0.0     0.0    0.0   \n",
      "\n",
      "   sternotomy  suture  tracheal_tube  transplant  tree_in_bud  tuberculosis  \n",
      "0         0.0     0.0            0.0         0.0          0.0           0.0  \n",
      "1         0.0     0.0            0.0         0.0          0.0           0.0  \n",
      "2         0.0     0.0            0.0         0.0          0.0           0.0  \n",
      "3         0.0     0.0            0.0         1.0          0.0           0.0  \n",
      "4         0.0     0.0            0.0         0.0          0.0           0.0  \n",
      "\n",
      "[5 rows x 85 columns]\n"
     ]
    }
   ],
   "source": [
    "merge_label('imgtest')"
   ]
  },
  {
   "cell_type": "code",
   "execution_count": 20,
   "id": "816b4212-564e-4678-a60d-c28b1ed80665",
   "metadata": {},
   "outputs": [
    {
     "name": "stdout",
     "output_type": "stream",
     "text": [
      "  NoteAcc_DEID  air_trapping  airspace_disease  aneurysm  arthritis  \\\n",
      "0     trn24737           0.0               0.0       0.0        0.0   \n",
      "1     trn08439           0.0               0.0       0.0        0.0   \n",
      "2     trn11613           0.0               1.0       0.0        0.0   \n",
      "3     trn15638           0.0               1.0       0.0        0.0   \n",
      "4     trn03087           0.0               0.0       0.0        0.0   \n",
      "\n",
      "   aspiration  atelectasis  atherosclerosis  bandlike_or_linear  \\\n",
      "0         0.0          1.0              1.0                 1.0   \n",
      "1         0.0          0.0              1.0                 1.0   \n",
      "2         0.0          0.0              1.0                 0.0   \n",
      "3         0.0          1.0              1.0                 0.0   \n",
      "4         0.0          0.0              0.0                 0.0   \n",
      "\n",
      "   breast_implant  ...  septal_thickening  soft_tissue  staple  stent  \\\n",
      "0             0.0  ...                0.0          0.0     0.0    0.0   \n",
      "1             0.0  ...                0.0          0.0     0.0    0.0   \n",
      "2             0.0  ...                0.0          0.0     0.0    0.0   \n",
      "3             0.0  ...                1.0          0.0     0.0    0.0   \n",
      "4             0.0  ...                0.0          1.0     0.0    0.0   \n",
      "\n",
      "   sternotomy  suture  tracheal_tube  transplant  tree_in_bud  tuberculosis  \n",
      "0         0.0     1.0            0.0         0.0          0.0           0.0  \n",
      "1         0.0     0.0            0.0         0.0          0.0           0.0  \n",
      "2         0.0     0.0            0.0         0.0          0.0           0.0  \n",
      "3         0.0     0.0            0.0         0.0          0.0           0.0  \n",
      "4         0.0     0.0            0.0         0.0          0.0           0.0  \n",
      "\n",
      "[5 rows x 85 columns]\n"
     ]
    }
   ],
   "source": [
    "merge_label('imgtrain')"
   ]
  },
  {
   "cell_type": "code",
   "execution_count": 21,
   "id": "4282776e-82e3-40d0-9962-925a6b92896a",
   "metadata": {},
   "outputs": [
    {
     "name": "stdout",
     "output_type": "stream",
     "text": [
      "  NoteAcc_DEID  air_trapping  airspace_disease  aneurysm  arthritis  \\\n",
      "0     val27291           0.0               0.0       0.0        1.0   \n",
      "1     val26534           0.0               0.0       0.0        0.0   \n",
      "2     val25752           0.0               0.0       0.0        0.0   \n",
      "3     val26693           0.0               0.0       0.0        1.0   \n",
      "4     val26969           0.0               0.0       0.0        1.0   \n",
      "\n",
      "   aspiration  atelectasis  atherosclerosis  bandlike_or_linear  \\\n",
      "0         0.0          1.0              1.0                 0.0   \n",
      "1         0.0          0.0              0.0                 0.0   \n",
      "2         1.0          0.0              0.0                 0.0   \n",
      "3         0.0          0.0              1.0                 0.0   \n",
      "4         0.0          0.0              1.0                 0.0   \n",
      "\n",
      "   breast_implant  ...  septal_thickening  soft_tissue  staple  stent  \\\n",
      "0             0.0  ...                0.0          0.0     0.0    0.0   \n",
      "1             0.0  ...                0.0          0.0     0.0    0.0   \n",
      "2             0.0  ...                0.0          1.0     0.0    1.0   \n",
      "3             0.0  ...                0.0          0.0     0.0    0.0   \n",
      "4             0.0  ...                0.0          1.0     0.0    0.0   \n",
      "\n",
      "   sternotomy  suture  tracheal_tube  transplant  tree_in_bud  tuberculosis  \n",
      "0         0.0     0.0            0.0         0.0          0.0           0.0  \n",
      "1         0.0     0.0            0.0         0.0          0.0           0.0  \n",
      "2         0.0     0.0            0.0         1.0          0.0           0.0  \n",
      "3         0.0     0.0            0.0         0.0          0.0           0.0  \n",
      "4         0.0     0.0            0.0         0.0          0.0           0.0  \n",
      "\n",
      "[5 rows x 85 columns]\n"
     ]
    }
   ],
   "source": [
    "merge_label('imgvalid')"
   ]
  }
 ],
 "metadata": {
  "kernelspec": {
   "display_name": "p2sam",
   "language": "python",
   "name": "p2sam"
  },
  "language_info": {
   "codemirror_mode": {
    "name": "ipython",
    "version": 3
   },
   "file_extension": ".py",
   "mimetype": "text/x-python",
   "name": "python",
   "nbconvert_exporter": "python",
   "pygments_lexer": "ipython3",
   "version": "3.7.16"
  }
 },
 "nbformat": 4,
 "nbformat_minor": 5
}
