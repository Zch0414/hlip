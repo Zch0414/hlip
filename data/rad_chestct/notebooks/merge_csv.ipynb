{
 "cells": [
  {
   "cell_type": "code",
   "execution_count": 1,
   "id": "f8315fd4-06b1-4b61-8226-9881c94d7c68",
   "metadata": {},
   "outputs": [],
   "source": [
    "import os\n",
    "import pandas as pd"
   ]
  },
  {
   "cell_type": "code",
   "execution_count": 2,
   "id": "64383ff5-c705-404d-b098-05d34e933aaa",
   "metadata": {},
   "outputs": [],
   "source": [
    "def merge_csv(csv_dir='../files', csv_names=['imgtest_16.csv', 'imgtrain_16.csv', 'imgvalid_16.csv'], save_dir='../files'):\n",
    "\n",
    "    df_final = None\n",
    "\n",
    "    for name in csv_names:\n",
    "        full_path = os.path.join(csv_dir, name)\n",
    "        df_temp = pd.read_csv(full_path)\n",
    "\n",
    "        if df_final is None:\n",
    "            df_final = df_temp\n",
    "        else:\n",
    "            duplicates = df_final.merge(df_temp, how='inner')\n",
    "            if not duplicates.empty:\n",
    "                print(\n",
    "                    f\"Warning: Overlap detected when merging {name}. \"\n",
    "                    f\"Number of overlapping rows: {len(duplicates)}\"\n",
    "                )\n",
    "                \n",
    "            df_final = pd.concat([df_final, df_temp], ignore_index=True).drop_duplicates()\n",
    "\n",
    "    os.makedirs(save_dir, exist_ok=True)\n",
    "    save_path = os.path.join(save_dir, 'rad_chestct_label.csv')\n",
    "    df_final.to_csv(save_path, index=False)"
   ]
  },
  {
   "cell_type": "code",
   "execution_count": 4,
   "id": "897b2d88-c7a4-404c-841a-648ae99c13e8",
   "metadata": {},
   "outputs": [],
   "source": [
    "merge_csv()"
   ]
  }
 ],
 "metadata": {
  "kernelspec": {
   "display_name": "p2sam",
   "language": "python",
   "name": "p2sam"
  },
  "language_info": {
   "codemirror_mode": {
    "name": "ipython",
    "version": 3
   },
   "file_extension": ".py",
   "mimetype": "text/x-python",
   "name": "python",
   "nbconvert_exporter": "python",
   "pygments_lexer": "ipython3",
   "version": "3.7.16"
  }
 },
 "nbformat": 4,
 "nbformat_minor": 5
}
