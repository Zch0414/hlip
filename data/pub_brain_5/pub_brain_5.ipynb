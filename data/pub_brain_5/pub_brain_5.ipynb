{
 "cells": [
  {
   "cell_type": "code",
   "execution_count": 1,
   "id": "b95219c0-7968-4b9e-807f-e536dac1d49a",
   "metadata": {},
   "outputs": [],
   "source": [
    "import os\n",
    "import pandas as pd\n",
    "import matplotlib.pyplot as plt"
   ]
  },
  {
   "cell_type": "code",
   "execution_count": null,
   "id": "565469f0",
   "metadata": {},
   "outputs": [],
   "source": [
    "columns = ['study', 'Normal', 'Stroke', 'Glioma', 'Meningioma', 'Metastasis']\n",
    "rows = []"
   ]
  },
  {
   "cell_type": "code",
   "execution_count": null,
   "id": "116a1c4a-d857-4e0e-84ec-ea1367b927fc",
   "metadata": {},
   "outputs": [],
   "source": [
    "# pub_brain_5\n",
    "\n",
    "root_path = '/data/pub_brain_5/'\n",
    "for dataset in os.listdir(root_path):\n",
    "    dataset_path = os.path.join(root_path, dataset)\n",
    "    if 'brats23' == dataset:\n",
    "        for s in ['train', 'test']:\n",
    "            set_path = os.path.join(dataset_path, s)\n",
    "            for c in os.listdir(set_path):\n",
    "                class_path = os.path.join(set_path, c)\n",
    "                if 'glioma' in c:\n",
    "                    for study in os.listdir(class_path):\n",
    "                        study_path = os.path.join(class_path, study)\n",
    "                        if len(os.listdir(study_path)):\n",
    "                            row = [study_path, 0, 0, 1, 0, 0]\n",
    "                            rows.append(row)\n",
    "                if 'meningioma' in c:\n",
    "                    for study in os.listdir(class_path):\n",
    "                        study_path = os.path.join(class_path, study)\n",
    "                        if len(os.listdir(study_path)):\n",
    "                            row = [study_path, 0, 0, 0, 1, 0]\n",
    "                            rows.append(row)\n",
    "                if 'metastasis' in c:\n",
    "                    for study in os.listdir(class_path):\n",
    "                        study_path = os.path.join(class_path, study)\n",
    "                        if len(os.listdir(study_path)):\n",
    "                            row = [study_path, 0, 0, 0, 0, 1]\n",
    "                            rows.append(row)\n",
    "\n",
    "    if 'open_bhb' == dataset:\n",
    "        for study in os.listdir(dataset_path):\n",
    "            study_path = os.path.join(dataset_path, study)\n",
    "            if len(os.listdir(study_path)):\n",
    "                row = [study_path, 1, 0, 0, 0, 0]\n",
    "                rows.append(row)\n",
    "            \n",
    "    if 'stroke' == dataset:\n",
    "        for study in os.listdir(dataset_path):\n",
    "            study_path = os.path.join(dataset_path, study)\n",
    "            if len(os.listdir(study_path)):\n",
    "                row = [study_path, 0, 1, 0, 0, 0]\n",
    "                rows.append(row)\n",
    "            \n",
    "    if 'ucsf_mets' == dataset or 'nyu_mets' == dataset:\n",
    "        for study in os.listdir(dataset_path):\n",
    "            study_path = os.path.join(dataset_path, study)\n",
    "            if len(os.listdir(study_path)):\n",
    "                row = [study_path, 0, 0, 0, 0, 1]\n",
    "                rows.append(row)\n",
    "                \n",
    "df = pd.DataFrame(rows, columns=columns)\n",
    "output_csv_path = \"./pub_brain_5.csv\"\n",
    "df.to_csv(output_csv_path, index=False)\n",
    "print(f\"CSV file created: {output_csv_path}\")"
   ]
  },
  {
   "cell_type": "code",
   "execution_count": null,
   "id": "c30db536-188c-4a4d-bf38-7ce5cf98fca8",
   "metadata": {},
   "outputs": [],
   "source": [
    "# pub_brain_5_gt\n",
    "\n",
    "all_data = pd.read_csv('./pub_brain_5.csv')\n",
    "annotation = pd.read_csv('./ground_truth.csv')\n",
    "annotation_ids = set(annotation['study'])\n",
    "rows = []\n",
    "for idx, row in all_data.iterrows():\n",
    "    key = row['study']\n",
    "    if 'open_bhb' in key:\n",
    "        rows.append(row)\n",
    "    if key in annotation_ids:\n",
    "        if 'stroke' in key:\n",
    "            if 'DWI.pt' in os.listdir(key):\n",
    "                rows.append(row)\n",
    "            else:\n",
    "                print(f\"{key} is not valid\")\n",
    "        else:\n",
    "            rows.append(row)\n",
    "\n",
    "columns = all_data.columns\n",
    "df = pd.DataFrame(rows, columns=columns)\n",
    "\n",
    "output_csv_path = \"./pub_brain_5_gt.csv\"\n",
    "df.to_csv(output_csv_path, index=False)\n",
    "print(f\"CSV file created: {output_csv_path}\")"
   ]
  }
 ],
 "metadata": {
  "kernelspec": {
   "display_name": "env",
   "language": "python",
   "name": "env"
  },
  "language_info": {
   "codemirror_mode": {
    "name": "ipython",
    "version": 3
   },
   "file_extension": ".py",
   "mimetype": "text/x-python",
   "name": "python",
   "nbconvert_exporter": "python",
   "pygments_lexer": "ipython3",
   "version": "3.10.15"
  }
 },
 "nbformat": 4,
 "nbformat_minor": 5
}
